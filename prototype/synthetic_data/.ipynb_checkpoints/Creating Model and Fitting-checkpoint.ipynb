{
 "cells": [
  {
   "cell_type": "code",
   "execution_count": 48,
   "metadata": {},
   "outputs": [],
   "source": [
    "import pandas as pd\n",
    "import numpy as np"
   ]
  },
  {
   "cell_type": "markdown",
   "metadata": {},
   "source": [
    "* The following function is used for reading data and create x and y\n",
    "* It would take'csv' or 'tsv' file"
   ]
  },
  {
   "cell_type": "code",
   "execution_count": 2,
   "metadata": {},
   "outputs": [
    {
     "name": "stdout",
     "output_type": "stream",
     "text": [
      "/Users/wangyuening/Documents/Research/Neuralizer/prototype/synthetic_data/synthetic_data.tsv\n"
     ]
    }
   ],
   "source": [
    "import os\n",
    "location = os.path.abspath('synthetic_data.tsv')\n",
    "df_try = pd.read_csv('%s'%location)\n",
    "print(location)\n"
   ]
  },
  {
   "cell_type": "code",
   "execution_count": 3,
   "metadata": {},
   "outputs": [],
   "source": [
    "def read_file(filename,X_var,Y_var):\n",
    "    location = os.path.abspath(filename)\n",
    "    df = pd.read_csv('%s'%location,sep='\\t')\n",
    "    X = np.array(df[X_var].values)\n",
    "    Y = np.array(df[Y_var].values)\n",
    "    return X,Y\n",
    "    "
   ]
  },
  {
   "cell_type": "code",
   "execution_count": 4,
   "metadata": {},
   "outputs": [],
   "source": [
    "filename = 'synthetic_data.tsv'\n",
    "X_var = ['A','B','C']\n",
    "Y_var =['y']\n",
    "X,Y = read_file(filename=filename,X_var=X_var,Y_var=Y_var)"
   ]
  },
  {
   "cell_type": "code",
   "execution_count": 5,
   "metadata": {},
   "outputs": [
    {
     "data": {
      "text/plain": [
       "(9261, 3)"
      ]
     },
     "execution_count": 5,
     "metadata": {},
     "output_type": "execute_result"
    }
   ],
   "source": [
    "X.shape"
   ]
  },
  {
   "cell_type": "code",
   "execution_count": 6,
   "metadata": {},
   "outputs": [
    {
     "data": {
      "text/plain": [
       "(9261, 1)"
      ]
     },
     "execution_count": 6,
     "metadata": {},
     "output_type": "execute_result"
    }
   ],
   "source": [
    "Y.shape"
   ]
  },
  {
   "cell_type": "code",
   "execution_count": 7,
   "metadata": {},
   "outputs": [],
   "source": [
    "import sklearn\n",
    "from sklearn.model_selection import train_test_split"
   ]
  },
  {
   "cell_type": "code",
   "execution_count": 8,
   "metadata": {},
   "outputs": [],
   "source": [
    "def split_train_test(X,Y,test_fraction,random_state):\n",
    "    X_train, X_test, Y_train, Y_test = train_test_split(X, Y, test_size=test_fraction, random_state=random_state)\n",
    "    return X_train, X_test, Y_train, Y_test"
   ]
  },
  {
   "cell_type": "code",
   "execution_count": 9,
   "metadata": {},
   "outputs": [],
   "source": [
    "X_train, X_test, Y_train, Y_test = split_train_test(X,Y,0.20,42)"
   ]
  },
  {
   "cell_type": "code",
   "execution_count": 10,
   "metadata": {},
   "outputs": [
    {
     "name": "stderr",
     "output_type": "stream",
     "text": [
      "Using TensorFlow backend.\n"
     ]
    }
   ],
   "source": [
    "import keras"
   ]
  },
  {
   "cell_type": "code",
   "execution_count": 11,
   "metadata": {},
   "outputs": [],
   "source": [
    "from keras import *"
   ]
  },
  {
   "cell_type": "code",
   "execution_count": 45,
   "metadata": {},
   "outputs": [
    {
     "name": "stdout",
     "output_type": "stream",
     "text": [
      "Train on 4963 samples, validate on 2445 samples\n",
      "Epoch 1/150\n",
      "4963/4963 [==============================] - 1s 154us/step - loss: 0.7043 - coeff_determination: -0.0035 - val_loss: 0.5940 - val_coeff_determination: 0.1246\n",
      "Epoch 2/150\n",
      "4963/4963 [==============================] - 0s 94us/step - loss: 0.6031 - coeff_determination: 0.1602 - val_loss: 0.5672 - val_coeff_determination: 0.1753\n",
      "Epoch 3/150\n",
      "4963/4963 [==============================] - 0s 93us/step - loss: 0.5684 - coeff_determination: 0.2385 - val_loss: 0.5264 - val_coeff_determination: 0.2308\n",
      "Epoch 4/150\n",
      "4963/4963 [==============================] - 0s 96us/step - loss: 0.5108 - coeff_determination: 0.2837 - val_loss: 0.4576 - val_coeff_determination: 0.3434\n",
      "Epoch 5/150\n",
      "4963/4963 [==============================] - 0s 96us/step - loss: 0.4284 - coeff_determination: 0.3855 - val_loss: 0.3720 - val_coeff_determination: 0.4697\n",
      "Epoch 6/150\n",
      "4963/4963 [==============================] - 0s 95us/step - loss: 0.3413 - coeff_determination: 0.5249 - val_loss: 0.2974 - val_coeff_determination: 0.5608\n",
      "Epoch 7/150\n",
      "4963/4963 [==============================] - 0s 94us/step - loss: 0.2708 - coeff_determination: 0.6213 - val_loss: 0.2439 - val_coeff_determination: 0.6386\n",
      "Epoch 8/150\n",
      "4963/4963 [==============================] - 0s 96us/step - loss: 0.2273 - coeff_determination: 0.6752 - val_loss: 0.2153 - val_coeff_determination: 0.6752\n",
      "Epoch 9/150\n",
      "4963/4963 [==============================] - 1s 109us/step - loss: 0.2012 - coeff_determination: 0.6881 - val_loss: 0.1934 - val_coeff_determination: 0.7048\n",
      "Epoch 10/150\n",
      "4963/4963 [==============================] - 0s 101us/step - loss: 0.1746 - coeff_determination: 0.7334 - val_loss: 0.1623 - val_coeff_determination: 0.7500\n",
      "Epoch 11/150\n",
      "4963/4963 [==============================] - 0s 96us/step - loss: 0.1338 - coeff_determination: 0.8078 - val_loss: 0.1128 - val_coeff_determination: 0.8273\n",
      "Epoch 12/150\n",
      "4963/4963 [==============================] - 0s 97us/step - loss: 0.0877 - coeff_determination: 0.8694 - val_loss: 0.0713 - val_coeff_determination: 0.8909\n",
      "Epoch 13/150\n",
      "4963/4963 [==============================] - 0s 94us/step - loss: 0.0606 - coeff_determination: 0.9107 - val_loss: 0.0544 - val_coeff_determination: 0.9163\n",
      "Epoch 14/150\n",
      "4963/4963 [==============================] - 0s 95us/step - loss: 0.0515 - coeff_determination: 0.9261 - val_loss: 0.0502 - val_coeff_determination: 0.9230\n",
      "Epoch 15/150\n",
      "4963/4963 [==============================] - 0s 98us/step - loss: 0.0489 - coeff_determination: 0.9284 - val_loss: 0.0473 - val_coeff_determination: 0.9271\n",
      "Epoch 16/150\n",
      "4963/4963 [==============================] - 1s 112us/step - loss: 0.0473 - coeff_determination: 0.9304 - val_loss: 0.0462 - val_coeff_determination: 0.9284\n",
      "Epoch 17/150\n",
      "4963/4963 [==============================] - 1s 110us/step - loss: 0.0459 - coeff_determination: 0.9322 - val_loss: 0.0450 - val_coeff_determination: 0.9299\n",
      "Epoch 18/150\n",
      "4963/4963 [==============================] - 0s 100us/step - loss: 0.0447 - coeff_determination: 0.9347 - val_loss: 0.0437 - val_coeff_determination: 0.9329\n",
      "Epoch 19/150\n",
      "4963/4963 [==============================] - 1s 108us/step - loss: 0.0431 - coeff_determination: 0.9345 - val_loss: 0.0425 - val_coeff_determination: 0.9341\n",
      "Epoch 20/150\n",
      "4963/4963 [==============================] - 0s 100us/step - loss: 0.0415 - coeff_determination: 0.9392 - val_loss: 0.0417 - val_coeff_determination: 0.9347\n",
      "Epoch 21/150\n",
      "4963/4963 [==============================] - 0s 98us/step - loss: 0.0396 - coeff_determination: 0.9409 - val_loss: 0.0388 - val_coeff_determination: 0.9389\n",
      "Epoch 22/150\n",
      "4963/4963 [==============================] - 0s 98us/step - loss: 0.0377 - coeff_determination: 0.9434 - val_loss: 0.0374 - val_coeff_determination: 0.9406\n",
      "Epoch 23/150\n",
      "4963/4963 [==============================] - 0s 95us/step - loss: 0.0361 - coeff_determination: 0.9465 - val_loss: 0.0352 - val_coeff_determination: 0.9448\n",
      "Epoch 24/150\n",
      "4963/4963 [==============================] - 0s 100us/step - loss: 0.0343 - coeff_determination: 0.9499 - val_loss: 0.0341 - val_coeff_determination: 0.9463\n",
      "Epoch 25/150\n",
      "4963/4963 [==============================] - 0s 94us/step - loss: 0.0329 - coeff_determination: 0.9507 - val_loss: 0.0337 - val_coeff_determination: 0.9464\n",
      "Epoch 26/150\n",
      "4963/4963 [==============================] - 0s 95us/step - loss: 0.0320 - coeff_determination: 0.9535 - val_loss: 0.0318 - val_coeff_determination: 0.9497\n",
      "Epoch 27/150\n",
      "4963/4963 [==============================] - 0s 96us/step - loss: 0.0310 - coeff_determination: 0.9546 - val_loss: 0.0316 - val_coeff_determination: 0.9498\n",
      "Epoch 28/150\n",
      "4963/4963 [==============================] - 0s 97us/step - loss: 0.0303 - coeff_determination: 0.9544 - val_loss: 0.0303 - val_coeff_determination: 0.9515\n",
      "Epoch 29/150\n",
      "4963/4963 [==============================] - 0s 95us/step - loss: 0.0300 - coeff_determination: 0.9531 - val_loss: 0.0293 - val_coeff_determination: 0.9531\n",
      "Epoch 30/150\n",
      "4963/4963 [==============================] - 0s 97us/step - loss: 0.0294 - coeff_determination: 0.9535 - val_loss: 0.0291 - val_coeff_determination: 0.9534\n",
      "Epoch 31/150\n",
      "4963/4963 [==============================] - 0s 94us/step - loss: 0.0289 - coeff_determination: 0.9564 - val_loss: 0.0292 - val_coeff_determination: 0.9530\n",
      "Epoch 32/150\n",
      "4963/4963 [==============================] - 0s 96us/step - loss: 0.0285 - coeff_determination: 0.9527 - val_loss: 0.0280 - val_coeff_determination: 0.9552\n",
      "Epoch 33/150\n",
      "4963/4963 [==============================] - 0s 97us/step - loss: 0.0281 - coeff_determination: 0.9579 - val_loss: 0.0283 - val_coeff_determination: 0.9544\n",
      "Epoch 34/150\n",
      "4963/4963 [==============================] - 0s 95us/step - loss: 0.0279 - coeff_determination: 0.9570 - val_loss: 0.0271 - val_coeff_determination: 0.9568\n",
      "Epoch 35/150\n",
      "4963/4963 [==============================] - 0s 96us/step - loss: 0.0276 - coeff_determination: 0.9555 - val_loss: 0.0272 - val_coeff_determination: 0.9560\n",
      "Epoch 36/150\n",
      "4963/4963 [==============================] - 0s 92us/step - loss: 0.0272 - coeff_determination: 0.9599 - val_loss: 0.0267 - val_coeff_determination: 0.9572\n",
      "Epoch 37/150\n",
      "4963/4963 [==============================] - 0s 92us/step - loss: 0.0269 - coeff_determination: 0.9611 - val_loss: 0.0265 - val_coeff_determination: 0.9572\n",
      "Epoch 38/150\n",
      "4963/4963 [==============================] - 0s 92us/step - loss: 0.0266 - coeff_determination: 0.9610 - val_loss: 0.0269 - val_coeff_determination: 0.9566\n",
      "Epoch 39/150\n",
      "4963/4963 [==============================] - 0s 92us/step - loss: 0.0263 - coeff_determination: 0.9615 - val_loss: 0.0262 - val_coeff_determination: 0.9582\n",
      "Epoch 40/150\n",
      "4963/4963 [==============================] - 0s 98us/step - loss: 0.0257 - coeff_determination: 0.9604 - val_loss: 0.0248 - val_coeff_determination: 0.9601\n",
      "Epoch 41/150\n",
      "4963/4963 [==============================] - 0s 97us/step - loss: 0.0257 - coeff_determination: 0.9614 - val_loss: 0.0242 - val_coeff_determination: 0.9611\n",
      "Epoch 42/150\n",
      "4963/4963 [==============================] - 1s 118us/step - loss: 0.0253 - coeff_determination: 0.9624 - val_loss: 0.0253 - val_coeff_determination: 0.9590\n",
      "Epoch 43/150\n",
      "4963/4963 [==============================] - 0s 95us/step - loss: 0.0251 - coeff_determination: 0.9632 - val_loss: 0.0238 - val_coeff_determination: 0.9617\n",
      "Epoch 44/150\n",
      "4963/4963 [==============================] - 1s 101us/step - loss: 0.0249 - coeff_determination: 0.9630 - val_loss: 0.0234 - val_coeff_determination: 0.9623\n",
      "Epoch 45/150\n",
      "4963/4963 [==============================] - 1s 104us/step - loss: 0.0246 - coeff_determination: 0.9609 - val_loss: 0.0237 - val_coeff_determination: 0.9617\n",
      "Epoch 46/150\n",
      "4963/4963 [==============================] - 0s 101us/step - loss: 0.0242 - coeff_determination: 0.9622 - val_loss: 0.0234 - val_coeff_determination: 0.9623\n",
      "Epoch 47/150\n",
      "4963/4963 [==============================] - 0s 98us/step - loss: 0.0239 - coeff_determination: 0.9645 - val_loss: 0.0238 - val_coeff_determination: 0.9615\n",
      "Epoch 48/150\n",
      "4963/4963 [==============================] - 0s 98us/step - loss: 0.0240 - coeff_determination: 0.9650 - val_loss: 0.0222 - val_coeff_determination: 0.9642\n",
      "Epoch 49/150\n",
      "4963/4963 [==============================] - 0s 96us/step - loss: 0.0236 - coeff_determination: 0.9655 - val_loss: 0.0221 - val_coeff_determination: 0.9646\n",
      "Epoch 50/150\n",
      "4963/4963 [==============================] - 0s 96us/step - loss: 0.0236 - coeff_determination: 0.9649 - val_loss: 0.0232 - val_coeff_determination: 0.9626\n",
      "Epoch 51/150\n",
      "4963/4963 [==============================] - 0s 93us/step - loss: 0.0232 - coeff_determination: 0.9659 - val_loss: 0.0219 - val_coeff_determination: 0.9649\n",
      "Epoch 52/150\n",
      "4963/4963 [==============================] - 0s 92us/step - loss: 0.0230 - coeff_determination: 0.9650 - val_loss: 0.0223 - val_coeff_determination: 0.9642\n",
      "Epoch 53/150\n",
      "4963/4963 [==============================] - 0s 93us/step - loss: 0.0228 - coeff_determination: 0.9648 - val_loss: 0.0221 - val_coeff_determination: 0.9645\n",
      "Epoch 54/150\n",
      "4963/4963 [==============================] - 0s 97us/step - loss: 0.0227 - coeff_determination: 0.9632 - val_loss: 0.0214 - val_coeff_determination: 0.9657\n",
      "Epoch 55/150\n",
      "4963/4963 [==============================] - 0s 93us/step - loss: 0.0224 - coeff_determination: 0.9657 - val_loss: 0.0216 - val_coeff_determination: 0.9651\n",
      "Epoch 56/150\n",
      "4963/4963 [==============================] - 0s 92us/step - loss: 0.0222 - coeff_determination: 0.9672 - val_loss: 0.0221 - val_coeff_determination: 0.9644\n",
      "Epoch 57/150\n",
      "4963/4963 [==============================] - 0s 93us/step - loss: 0.0221 - coeff_determination: 0.9674 - val_loss: 0.0211 - val_coeff_determination: 0.9662\n",
      "Epoch 58/150\n",
      "4963/4963 [==============================] - 0s 93us/step - loss: 0.0219 - coeff_determination: 0.9676 - val_loss: 0.0218 - val_coeff_determination: 0.9649\n",
      "Epoch 59/150\n",
      "4963/4963 [==============================] - 0s 91us/step - loss: 0.0221 - coeff_determination: 0.9660 - val_loss: 0.0204 - val_coeff_determination: 0.9672\n",
      "Epoch 60/150\n",
      "4963/4963 [==============================] - 0s 93us/step - loss: 0.0218 - coeff_determination: 0.9656 - val_loss: 0.0209 - val_coeff_determination: 0.9662\n",
      "Epoch 61/150\n",
      "4963/4963 [==============================] - 0s 92us/step - loss: 0.0215 - coeff_determination: 0.9676 - val_loss: 0.0205 - val_coeff_determination: 0.9671\n",
      "Epoch 62/150\n",
      "4963/4963 [==============================] - 0s 93us/step - loss: 0.0216 - coeff_determination: 0.9656 - val_loss: 0.0201 - val_coeff_determination: 0.9677\n",
      "Epoch 63/150\n",
      "4963/4963 [==============================] - 0s 92us/step - loss: 0.0216 - coeff_determination: 0.9680 - val_loss: 0.0219 - val_coeff_determination: 0.9644\n",
      "Epoch 64/150\n",
      "4963/4963 [==============================] - 0s 93us/step - loss: 0.0215 - coeff_determination: 0.9680 - val_loss: 0.0203 - val_coeff_determination: 0.9672\n",
      "Epoch 65/150\n",
      "4963/4963 [==============================] - 0s 92us/step - loss: 0.0213 - coeff_determination: 0.9675 - val_loss: 0.0197 - val_coeff_determination: 0.9682\n",
      "Epoch 66/150\n",
      "4963/4963 [==============================] - 0s 94us/step - loss: 0.0211 - coeff_determination: 0.9660 - val_loss: 0.0208 - val_coeff_determination: 0.9664\n",
      "Epoch 67/150\n",
      "4963/4963 [==============================] - 0s 93us/step - loss: 0.0210 - coeff_determination: 0.9692 - val_loss: 0.0195 - val_coeff_determination: 0.9685\n",
      "Epoch 68/150\n",
      "4963/4963 [==============================] - 0s 93us/step - loss: 0.0211 - coeff_determination: 0.9665 - val_loss: 0.0192 - val_coeff_determination: 0.9690\n",
      "Epoch 69/150\n",
      "4963/4963 [==============================] - 0s 92us/step - loss: 0.0210 - coeff_determination: 0.9681 - val_loss: 0.0191 - val_coeff_determination: 0.9692\n",
      "Epoch 70/150\n",
      "4963/4963 [==============================] - 0s 92us/step - loss: 0.0210 - coeff_determination: 0.9673 - val_loss: 0.0190 - val_coeff_determination: 0.9694\n",
      "Epoch 71/150\n",
      "4963/4963 [==============================] - 1s 101us/step - loss: 0.0207 - coeff_determination: 0.9691 - val_loss: 0.0195 - val_coeff_determination: 0.9685\n",
      "Epoch 72/150\n",
      "4963/4963 [==============================] - 0s 100us/step - loss: 0.0207 - coeff_determination: 0.9687 - val_loss: 0.0189 - val_coeff_determination: 0.9695\n",
      "Epoch 73/150\n",
      "4963/4963 [==============================] - 0s 98us/step - loss: 0.0207 - coeff_determination: 0.9684 - val_loss: 0.0189 - val_coeff_determination: 0.9695\n",
      "Epoch 74/150\n",
      "4963/4963 [==============================] - 0s 96us/step - loss: 0.0204 - coeff_determination: 0.9697 - val_loss: 0.0185 - val_coeff_determination: 0.9701\n",
      "Epoch 75/150\n",
      "4963/4963 [==============================] - 0s 98us/step - loss: 0.0203 - coeff_determination: 0.9703 - val_loss: 0.0195 - val_coeff_determination: 0.9688\n",
      "Epoch 76/150\n",
      "4963/4963 [==============================] - 1s 103us/step - loss: 0.0205 - coeff_determination: 0.9693 - val_loss: 0.0192 - val_coeff_determination: 0.9691\n",
      "Epoch 77/150\n",
      "4963/4963 [==============================] - 1s 102us/step - loss: 0.0204 - coeff_determination: 0.9694 - val_loss: 0.0185 - val_coeff_determination: 0.9702\n",
      "Epoch 78/150\n",
      "4963/4963 [==============================] - 1s 106us/step - loss: 0.0201 - coeff_determination: 0.9673 - val_loss: 0.0187 - val_coeff_determination: 0.9700\n",
      "Epoch 79/150\n",
      "4963/4963 [==============================] - 1s 103us/step - loss: 0.0201 - coeff_determination: 0.9686 - val_loss: 0.0184 - val_coeff_determination: 0.9704\n",
      "Epoch 80/150\n",
      "4963/4963 [==============================] - 1s 105us/step - loss: 0.0201 - coeff_determination: 0.9689 - val_loss: 0.0189 - val_coeff_determination: 0.9694\n",
      "Epoch 81/150\n",
      "4963/4963 [==============================] - 1s 106us/step - loss: 0.0199 - coeff_determination: 0.9704 - val_loss: 0.0189 - val_coeff_determination: 0.9697\n",
      "Epoch 82/150\n",
      "4963/4963 [==============================] - 1s 108us/step - loss: 0.0200 - coeff_determination: 0.9681 - val_loss: 0.0181 - val_coeff_determination: 0.9708\n",
      "Epoch 83/150\n",
      "4963/4963 [==============================] - 1s 104us/step - loss: 0.0198 - coeff_determination: 0.9705 - val_loss: 0.0182 - val_coeff_determination: 0.9706\n",
      "Epoch 84/150\n",
      "4963/4963 [==============================] - 1s 105us/step - loss: 0.0198 - coeff_determination: 0.9700 - val_loss: 0.0183 - val_coeff_determination: 0.9704\n",
      "Epoch 85/150\n",
      "4963/4963 [==============================] - 0s 100us/step - loss: 0.0197 - coeff_determination: 0.9696 - val_loss: 0.0178 - val_coeff_determination: 0.9714\n",
      "Epoch 86/150\n",
      "4963/4963 [==============================] - 0s 97us/step - loss: 0.0196 - coeff_determination: 0.9699 - val_loss: 0.0180 - val_coeff_determination: 0.9711\n",
      "Epoch 87/150\n",
      "4963/4963 [==============================] - 0s 99us/step - loss: 0.0196 - coeff_determination: 0.9695 - val_loss: 0.0178 - val_coeff_determination: 0.9714\n",
      "Epoch 88/150\n",
      "4963/4963 [==============================] - 0s 94us/step - loss: 0.0196 - coeff_determination: 0.9702 - val_loss: 0.0174 - val_coeff_determination: 0.9718\n",
      "Epoch 89/150\n",
      "4963/4963 [==============================] - 0s 93us/step - loss: 0.0197 - coeff_determination: 0.9701 - val_loss: 0.0189 - val_coeff_determination: 0.9694\n",
      "Epoch 90/150\n",
      "4963/4963 [==============================] - 0s 95us/step - loss: 0.0195 - coeff_determination: 0.9719 - val_loss: 0.0175 - val_coeff_determination: 0.9718\n",
      "Epoch 91/150\n",
      "4963/4963 [==============================] - 0s 94us/step - loss: 0.0194 - coeff_determination: 0.9702 - val_loss: 0.0173 - val_coeff_determination: 0.9722\n",
      "Epoch 92/150\n",
      "4963/4963 [==============================] - 0s 93us/step - loss: 0.0193 - coeff_determination: 0.9707 - val_loss: 0.0173 - val_coeff_determination: 0.9722\n",
      "Epoch 93/150\n",
      "4963/4963 [==============================] - 0s 93us/step - loss: 0.0193 - coeff_determination: 0.9714 - val_loss: 0.0180 - val_coeff_determination: 0.9710\n",
      "Epoch 94/150\n",
      "4963/4963 [==============================] - 0s 95us/step - loss: 0.0192 - coeff_determination: 0.9712 - val_loss: 0.0180 - val_coeff_determination: 0.9710\n",
      "Epoch 95/150\n",
      "4963/4963 [==============================] - 0s 93us/step - loss: 0.0191 - coeff_determination: 0.9690 - val_loss: 0.0173 - val_coeff_determination: 0.9720\n",
      "Epoch 96/150\n",
      "4963/4963 [==============================] - 0s 94us/step - loss: 0.0191 - coeff_determination: 0.9696 - val_loss: 0.0176 - val_coeff_determination: 0.9717\n",
      "Epoch 97/150\n"
     ]
    },
    {
     "name": "stdout",
     "output_type": "stream",
     "text": [
      "4963/4963 [==============================] - 0s 96us/step - loss: 0.0190 - coeff_determination: 0.9723 - val_loss: 0.0168 - val_coeff_determination: 0.9730\n",
      "Epoch 98/150\n",
      "4963/4963 [==============================] - 0s 95us/step - loss: 0.0192 - coeff_determination: 0.9710 - val_loss: 0.0169 - val_coeff_determination: 0.9729\n",
      "Epoch 99/150\n",
      "4963/4963 [==============================] - 0s 94us/step - loss: 0.0189 - coeff_determination: 0.9722 - val_loss: 0.0171 - val_coeff_determination: 0.9724\n",
      "Epoch 100/150\n",
      "4963/4963 [==============================] - 0s 94us/step - loss: 0.0190 - coeff_determination: 0.9714 - val_loss: 0.0168 - val_coeff_determination: 0.9728\n",
      "Epoch 101/150\n",
      "4963/4963 [==============================] - 0s 95us/step - loss: 0.0189 - coeff_determination: 0.9694 - val_loss: 0.0166 - val_coeff_determination: 0.9733\n",
      "Epoch 102/150\n",
      "4963/4963 [==============================] - 0s 93us/step - loss: 0.0188 - coeff_determination: 0.9724 - val_loss: 0.0166 - val_coeff_determination: 0.9734\n",
      "Epoch 103/150\n",
      "4963/4963 [==============================] - 0s 94us/step - loss: 0.0187 - coeff_determination: 0.9724 - val_loss: 0.0170 - val_coeff_determination: 0.9725\n",
      "Epoch 104/150\n",
      "4963/4963 [==============================] - 0s 96us/step - loss: 0.0186 - coeff_determination: 0.9716 - val_loss: 0.0164 - val_coeff_determination: 0.9736\n",
      "Epoch 105/150\n",
      "4963/4963 [==============================] - 0s 98us/step - loss: 0.0187 - coeff_determination: 0.9711 - val_loss: 0.0164 - val_coeff_determination: 0.9735\n",
      "Epoch 106/150\n",
      "4963/4963 [==============================] - 0s 99us/step - loss: 0.0186 - coeff_determination: 0.9704 - val_loss: 0.0165 - val_coeff_determination: 0.9735\n",
      "Epoch 107/150\n",
      "4963/4963 [==============================] - 0s 96us/step - loss: 0.0186 - coeff_determination: 0.9700 - val_loss: 0.0166 - val_coeff_determination: 0.9732\n",
      "Epoch 108/150\n",
      "4963/4963 [==============================] - 0s 97us/step - loss: 0.0187 - coeff_determination: 0.9689 - val_loss: 0.0165 - val_coeff_determination: 0.9735\n",
      "Epoch 109/150\n",
      "4963/4963 [==============================] - 0s 98us/step - loss: 0.0185 - coeff_determination: 0.9722 - val_loss: 0.0162 - val_coeff_determination: 0.9738\n",
      "Epoch 110/150\n",
      "4963/4963 [==============================] - 0s 97us/step - loss: 0.0183 - coeff_determination: 0.9708 - val_loss: 0.0165 - val_coeff_determination: 0.9735\n",
      "Epoch 111/150\n",
      "4963/4963 [==============================] - 0s 95us/step - loss: 0.0184 - coeff_determination: 0.9716 - val_loss: 0.0169 - val_coeff_determination: 0.9727\n",
      "Epoch 112/150\n",
      "4963/4963 [==============================] - 0s 96us/step - loss: 0.0184 - coeff_determination: 0.9715 - val_loss: 0.0169 - val_coeff_determination: 0.9728\n",
      "Epoch 113/150\n",
      "4963/4963 [==============================] - 0s 95us/step - loss: 0.0185 - coeff_determination: 0.9734 - val_loss: 0.0162 - val_coeff_determination: 0.9739\n",
      "Epoch 114/150\n",
      "4963/4963 [==============================] - 0s 98us/step - loss: 0.0183 - coeff_determination: 0.9718 - val_loss: 0.0161 - val_coeff_determination: 0.9743\n",
      "Epoch 115/150\n",
      "4963/4963 [==============================] - 0s 94us/step - loss: 0.0183 - coeff_determination: 0.9728 - val_loss: 0.0160 - val_coeff_determination: 0.9743\n",
      "Epoch 116/150\n",
      "4963/4963 [==============================] - 0s 95us/step - loss: 0.0183 - coeff_determination: 0.9730 - val_loss: 0.0166 - val_coeff_determination: 0.9733\n",
      "Epoch 117/150\n",
      "4963/4963 [==============================] - 0s 95us/step - loss: 0.0181 - coeff_determination: 0.9728 - val_loss: 0.0164 - val_coeff_determination: 0.9734\n",
      "Epoch 118/150\n",
      "4963/4963 [==============================] - 0s 93us/step - loss: 0.0181 - coeff_determination: 0.9715 - val_loss: 0.0159 - val_coeff_determination: 0.9745\n",
      "Epoch 119/150\n",
      "4963/4963 [==============================] - 0s 93us/step - loss: 0.0179 - coeff_determination: 0.9729 - val_loss: 0.0159 - val_coeff_determination: 0.9743\n",
      "Epoch 120/150\n",
      "4963/4963 [==============================] - 0s 97us/step - loss: 0.0181 - coeff_determination: 0.9737 - val_loss: 0.0156 - val_coeff_determination: 0.9750\n",
      "Epoch 121/150\n",
      "4963/4963 [==============================] - 0s 94us/step - loss: 0.0180 - coeff_determination: 0.9728 - val_loss: 0.0159 - val_coeff_determination: 0.9745\n",
      "Epoch 122/150\n",
      "4963/4963 [==============================] - 0s 97us/step - loss: 0.0180 - coeff_determination: 0.9717 - val_loss: 0.0158 - val_coeff_determination: 0.9746\n",
      "Epoch 123/150\n",
      "4963/4963 [==============================] - 0s 99us/step - loss: 0.0179 - coeff_determination: 0.9745 - val_loss: 0.0165 - val_coeff_determination: 0.9732\n",
      "Epoch 124/150\n",
      "4963/4963 [==============================] - 1s 102us/step - loss: 0.0179 - coeff_determination: 0.9725 - val_loss: 0.0156 - val_coeff_determination: 0.9749\n",
      "Epoch 125/150\n",
      "4963/4963 [==============================] - 1s 103us/step - loss: 0.0177 - coeff_determination: 0.9740 - val_loss: 0.0157 - val_coeff_determination: 0.9747\n",
      "Epoch 126/150\n",
      "4963/4963 [==============================] - 0s 95us/step - loss: 0.0178 - coeff_determination: 0.9736 - val_loss: 0.0154 - val_coeff_determination: 0.9753\n",
      "Epoch 127/150\n",
      "4963/4963 [==============================] - 1s 102us/step - loss: 0.0178 - coeff_determination: 0.9728 - val_loss: 0.0153 - val_coeff_determination: 0.9753\n",
      "Epoch 128/150\n",
      "4963/4963 [==============================] - 0s 92us/step - loss: 0.0178 - coeff_determination: 0.9725 - val_loss: 0.0155 - val_coeff_determination: 0.9751\n",
      "Epoch 129/150\n",
      "4963/4963 [==============================] - 0s 94us/step - loss: 0.0177 - coeff_determination: 0.9722 - val_loss: 0.0161 - val_coeff_determination: 0.9740\n",
      "Epoch 130/150\n",
      "4963/4963 [==============================] - 0s 95us/step - loss: 0.0176 - coeff_determination: 0.9728 - val_loss: 0.0155 - val_coeff_determination: 0.9751\n",
      "Epoch 131/150\n",
      "4963/4963 [==============================] - 0s 96us/step - loss: 0.0177 - coeff_determination: 0.9720 - val_loss: 0.0156 - val_coeff_determination: 0.9748\n",
      "Epoch 132/150\n",
      "4963/4963 [==============================] - 0s 93us/step - loss: 0.0175 - coeff_determination: 0.9723 - val_loss: 0.0150 - val_coeff_determination: 0.9761\n",
      "Epoch 133/150\n",
      "4963/4963 [==============================] - 0s 93us/step - loss: 0.0175 - coeff_determination: 0.9736 - val_loss: 0.0151 - val_coeff_determination: 0.9756\n",
      "Epoch 134/150\n",
      "4963/4963 [==============================] - 0s 92us/step - loss: 0.0175 - coeff_determination: 0.9742 - val_loss: 0.0154 - val_coeff_determination: 0.9754\n",
      "Epoch 135/150\n",
      "4963/4963 [==============================] - 0s 93us/step - loss: 0.0175 - coeff_determination: 0.9749 - val_loss: 0.0151 - val_coeff_determination: 0.9757\n",
      "Epoch 136/150\n",
      "4963/4963 [==============================] - 1s 110us/step - loss: 0.0174 - coeff_determination: 0.9741 - val_loss: 0.0158 - val_coeff_determination: 0.9743\n",
      "Epoch 137/150\n",
      "4963/4963 [==============================] - 1s 106us/step - loss: 0.0173 - coeff_determination: 0.9735 - val_loss: 0.0151 - val_coeff_determination: 0.9758\n",
      "Epoch 138/150\n",
      "4963/4963 [==============================] - 1s 104us/step - loss: 0.0174 - coeff_determination: 0.9724 - val_loss: 0.0150 - val_coeff_determination: 0.9757\n",
      "Epoch 139/150\n",
      "4963/4963 [==============================] - 1s 101us/step - loss: 0.0174 - coeff_determination: 0.9736 - val_loss: 0.0151 - val_coeff_determination: 0.9757\n",
      "Epoch 140/150\n",
      "4963/4963 [==============================] - 0s 92us/step - loss: 0.0173 - coeff_determination: 0.9724 - val_loss: 0.0148 - val_coeff_determination: 0.9762\n",
      "Epoch 141/150\n",
      "4963/4963 [==============================] - 0s 90us/step - loss: 0.0172 - coeff_determination: 0.9747 - val_loss: 0.0150 - val_coeff_determination: 0.9757\n",
      "Epoch 142/150\n",
      "4963/4963 [==============================] - 0s 90us/step - loss: 0.0172 - coeff_determination: 0.9738 - val_loss: 0.0151 - val_coeff_determination: 0.9756\n",
      "Epoch 143/150\n",
      "4963/4963 [==============================] - 0s 96us/step - loss: 0.0171 - coeff_determination: 0.9729 - val_loss: 0.0150 - val_coeff_determination: 0.9759\n",
      "Epoch 144/150\n",
      "4963/4963 [==============================] - 0s 98us/step - loss: 0.0173 - coeff_determination: 0.9737 - val_loss: 0.0145 - val_coeff_determination: 0.9767\n",
      "Epoch 145/150\n",
      "4963/4963 [==============================] - 1s 102us/step - loss: 0.0171 - coeff_determination: 0.9748 - val_loss: 0.0152 - val_coeff_determination: 0.9756\n",
      "Epoch 146/150\n",
      "4963/4963 [==============================] - 0s 99us/step - loss: 0.0172 - coeff_determination: 0.9740 - val_loss: 0.0151 - val_coeff_determination: 0.9759\n",
      "Epoch 147/150\n",
      "4963/4963 [==============================] - 1s 104us/step - loss: 0.0172 - coeff_determination: 0.9736 - val_loss: 0.0145 - val_coeff_determination: 0.9768\n",
      "Epoch 148/150\n",
      "4963/4963 [==============================] - 0s 99us/step - loss: 0.0170 - coeff_determination: 0.9723 - val_loss: 0.0149 - val_coeff_determination: 0.9760\n",
      "Epoch 149/150\n",
      "4963/4963 [==============================] - 1s 105us/step - loss: 0.0169 - coeff_determination: 0.9746 - val_loss: 0.0157 - val_coeff_determination: 0.9746\n",
      "Epoch 150/150\n",
      "4963/4963 [==============================] - 1s 102us/step - loss: 0.0169 - coeff_determination: 0.9743 - val_loss: 0.0148 - val_coeff_determination: 0.9760\n"
     ]
    }
   ],
   "source": [
    "model = keras.Sequential()\n",
    "model.add(keras.layers.Dense(20,input_dim=3,activation='tanh'))\n",
    "model.add(keras.layers.Dense(1,activation='linear'))\n",
    "                \n",
    "                \n",
    "model.compile(loss='mean_squared_error', optimizer='adam', metrics=[coeff_determination])\n",
    "history = model.fit(X_train,Y_train,epochs=150, batch_size=10,validation_split=0.33)"
   ]
  },
  {
   "cell_type": "code",
   "execution_count": 43,
   "metadata": {},
   "outputs": [],
   "source": [
    "import matplotlib.pyplot as plt"
   ]
  },
  {
   "cell_type": "code",
   "execution_count": 46,
   "metadata": {},
   "outputs": [
    {
     "data": {
      "image/png": "[encoded data removed]",
      "text/plain": [
       "<Figure size 432x288 with 1 Axes>"
      ]
     },
     "metadata": {},
     "output_type": "display_data"
    }
   ],
   "source": [
    "plt.plot(history.history['loss'])\n",
    "plt.plot(history.history['val_loss'])\n",
    "plt.title('model loss')\n",
    "plt.ylabel('loss')\n",
    "plt.xlabel('epoch')\n",
    "plt.legend(['train', 'test'], loc='upper left')\n",
    "plt.show()"
   ]
  },
  {
   "cell_type": "code",
   "execution_count": 47,
   "metadata": {},
   "outputs": [
    {
     "data": {
      "image/png": "[encoded data removed]",
      "text/plain": [
       "<Figure size 432x288 with 1 Axes>"
      ]
     },
     "metadata": {},
     "output_type": "display_data"
    }
   ],
   "source": [
    "plt.plot(history.history['coeff_determination'])\n",
    "plt.plot(history.history['val_coeff_determination'])\n",
    "plt.title('model fitting')\n",
    "plt.ylabel('R^2')\n",
    "plt.xlabel('epoch')\n",
    "plt.legend(['train', 'test'], loc='upper left')\n",
    "plt.show()"
   ]
  },
  {
   "cell_type": "code",
   "execution_count": null,
   "metadata": {},
   "outputs": [],
   "source": []
  },
  {
   "cell_type": "code",
   "execution_count": null,
   "metadata": {},
   "outputs": [],
   "source": []
  },
  {
   "cell_type": "code",
   "execution_count": 32,
   "metadata": {},
   "outputs": [],
   "source": [
    "import keras.backend as K\n",
    "\n",
    "def coeff_determination(y_true, y_pred):\n",
    "    from keras import backend as K\n",
    "    SS_res =  K.sum(K.square( y_true-y_pred ))\n",
    "    SS_tot = K.sum(K.square( y_true - K.mean(y_true) ) )\n",
    "    return ( 1 - SS_res/(SS_tot + K.epsilon()) )\n",
    "\n"
   ]
  },
  {
   "cell_type": "code",
   "execution_count": 52,
   "metadata": {},
   "outputs": [
    {
     "name": "stdout",
     "output_type": "stream",
     "text": [
      "1853/1853 [==============================] - 0s 13us/step\n",
      "[0.01620428961326247, 0.9815248924207507]\n",
      "['loss', 'coeff_determination']\n",
      "coeff_determination: 0.98\n"
     ]
    }
   ],
   "source": [
    "scores = model.evaluate(X_test,Y_test)\n",
    "print (scores)\n",
    "print (model.metrics_names)\n",
    "print(\"%s: %.2f\" % (model.metrics_names[1], scores[1]))"
   ]
  },
  {
   "cell_type": "code",
   "execution_count": null,
   "metadata": {},
   "outputs": [],
   "source": []
  },
  {
   "cell_type": "code",
   "execution_count": null,
   "metadata": {},
   "outputs": [],
   "source": []
  },
  {
   "cell_type": "code",
   "execution_count": null,
   "metadata": {},
   "outputs": [],
   "source": []
  },
  {
   "cell_type": "code",
   "execution_count": 90,
   "metadata": {},
   "outputs": [],
   "source": [
    "X_new = X_train[:1000]\n",
    "Y_new = Y_train[:1000]"
   ]
  },
  {
   "cell_type": "code",
   "execution_count": 91,
   "metadata": {},
   "outputs": [
    {
     "ename": "SyntaxError",
     "evalue": "invalid syntax (<ipython-input-91-8afec8440656>, line 13)",
     "output_type": "error",
     "traceback": [
      "\u001b[0;36m  File \u001b[0;32m\"<ipython-input-91-8afec8440656>\"\u001b[0;36m, line \u001b[0;32m13\u001b[0m\n\u001b[0;31m    model.add(keras.layers.Dense(nodes_n,activation=activation2))\u001b[0m\n\u001b[0m        ^\u001b[0m\n\u001b[0;31mSyntaxError\u001b[0m\u001b[0;31m:\u001b[0m invalid syntax\n"
     ]
    }
   ],
   "source": [
    "def model_search_old(activation,lr,nodes,input_dim,output_dim):\n",
    "    best_R = 0.0\n",
    "    best_lr = 0.0\n",
    "    best_activation = ['none','none','none']\n",
    "    best_nodes = ['none']\n",
    "    for lr_n in lr:\n",
    "        for activation1 in activation:\n",
    "            for acttivation2 in activation:\n",
    "                for activation3 in activation:\n",
    "                    for nodes_n in nodes:\n",
    "                        model = keras.Sequential()\n",
    "                        model.add(keras.layers.Dense(10,input_dim=input_dim,activation=activation2)\n",
    "                        model.add(keras.layers.Dense(nodes_n,activation=activation2))\n",
    "                        model.add(keras.layers.Dense(output_dim,activation=activation3))\n",
    "                \n",
    "                        model.compile(loss='mean_squared_error', optimizer=Adam(lr=lr_n), metrics=[coeff_determination])\n",
    "                        history = model.fit(X_train,Y_train,epochs=15, batch_size=10,validation_split=0.33)\n",
    "                        \n",
    "                        scores = model.evaulate(X_test,Y_test)\n",
    "                        print(scores)\n",
    "                        if scores[1]>0.985:\n",
    "                            best_activation = [activation1,activation2,activation3]\n",
    "                            best_R = scores[1]\n",
    "                            best_nodes = nodes_n\n",
    "                            best_lr = lr_n\n",
    "                            break\n",
    "                        elif scores[1]>best_R:\n",
    "                            best_activation = [activation1,activation2,activation3]\n",
    "                            best_R = scores[1]\n",
    "                            best_nodes = nodes_n\n",
    "                            best_lr = lr_n\n",
    "                        else:\n",
    "                            pass\n",
    "    print (best_R, best_activation,best_nodes,best_lr)\n",
    "        "
   ]
  },
  {
   "cell_type": "code",
   "execution_count": null,
   "metadata": {},
   "outputs": [],
   "source": [
    "def model_search(X_train,Y_train,X_test,Y_test\n",
    "    input_dim,output_dim,layers,activation_functions=['tanh','softmax','linear']):\n",
    "    iterations = len(activation_functions)**(layers + 2)\n",
    "    inner_iterations = len(activation_functions)**layers\n",
    "    af_combs = make_pairwise_list(max_depth=layers, options=activation_functions)\n",
    "    print(f'{layers}\\t{activation_functions}\\t{iterations} iterations required')\n",
    "    best_R = 0.0\n",
    "    best_activation = []\n",
    "    iteration_n = 1\n",
    "    for n in range(layers):\n",
    "        best_activation.append('none')\n",
    "    best_activation = []\n",
    "    for inner_iteration in range(inner_iterations):\n",
    "        for activation_in in activation_functions:\n",
    "            for layer in range(layers):\n",
    "                inner_list = []\n",
    "                inner_list.append(af_combs[inner_iteration][layer])\n",
    "                for activation_out in activation_functions:\n",
    "                    print(f\"running iteration {iteration_n}\")\n",
    "                    parameter_list = []\n",
    "                    parameter_list.append(activation_in)\n",
    "                    parameter_list.extend(inner_list)\n",
    "                    parameter_list.append(activation_out)\n",
    "                    print(f\"create input layer with activation of {activation_in}\")\n",
    "                    \n",
    "                    model = keras.Sequential()\n",
    "                    model.add(keras.layers.Dense(10,input_dim = input_dim,activation=activation_in))\n",
    "                    for i in range(len(inner_list)):\n",
    "                        print(f\"create hidden layer {layer} of type {inner_list[i]}\")\n",
    "                        model.add(keras.layers.Dense(20,activation = inner_list[i]))\n",
    "                    print(f\"create output layer with activation of {activation_out}\")\n",
    "                    model.add(keras.layers.Dense(output_dim,activation=activation_out))\n",
    "                    model.compile(loss='mean_squared_error', optimizer='adam', \n",
    "                                  metrics=[coeff_determination])\n",
    "                    history = model.fit(X_train,Y_train,epochs=50, batch_size=10,validation_split=0.33)\n",
    "                    scores = model.evaluate(X_test,Y_test)\n",
    "                    print(scores[1])\n",
    "                    iteration_n += iteration_n \n",
    "                    if scores[1]>best_R:\n",
    "                        best_activation = parameter_list\n",
    "                        best_score = scores[1]\n",
    "                    else:\n",
    "                        pass\n",
    "        print(\"\")\n",
    "    print(best_activation)\n",
    "    print(best_R)\n",
    "    \n",
    "    "
   ]
  },
  {
   "cell_type": "code",
   "execution_count": null,
   "metadata": {},
   "outputs": [],
   "source": [
    "model_search(X_train=X_new,Y_train=Y_new,X_test=X_test,Y_test=Y_test,\n",
    "             input_dim=3,output_dim=1,layers=1)"
   ]
  },
  {
   "cell_type": "code",
   "execution_count": null,
   "metadata": {},
   "outputs": [],
   "source": [
    "def model_hyperparam_search(layers, activation_functions=['tanh', 'softmax', 'relu']):\n",
    "    iterations = len(activation_functions)**layers\n",
    "    \n",
    "    af_combs = make_pairwise_list(max_depth=layers, options=activation_functions)\n",
    "    \n",
    "    print(f'{layers}\\t{activation_functions}\\t{iterations} iterations required')\n",
    "    for iteration in range(iterations):\n",
    "        print(f\"running interation {iteration}\")\n",
    "        print(\"create input layer\")\n",
    "        for layer in range(layers):\n",
    "            print(f\"create hidden layer {layer} of type {af_combs[iteration][layer]}\")\n",
    "        print(\"create output layer\")\n",
    "        print(\"\")\n",
    "\n",
    "def layer_search(hidden_layers=[1,3,5], \n",
    "                 activation_functions=None):\n",
    "    for layer_count in hidden_layers:\n",
    "        if not activation_functions:\n",
    "            model_hyperparam_search(layer_count)\n",
    "        else:\n",
    "            model_hyperparam_search(layer_count, activation_functions)"
   ]
  },
  {
   "cell_type": "code",
   "execution_count": null,
   "metadata": {},
   "outputs": [],
   "source": [
    "def model__multi_search(X_train,Y_train,X_test,Y_test,input_dim,output_dim,layers,\n",
    "                        activation_functions=['tanh', 'softmax', 'relu'],Dropout=[0.1,0.5,0.8]):\n",
    "    iterations = (len(Dropout)*len(activation_functions))**(layers+2)\n",
    "    inner_iterations = (len(Dropout)*len(activation_functions))**layers\n",
    "    options= make_combo(option1=activation_functions,option2=Dropout)\n",
    "    af_combs = make_pairwise_list(max_depth=layers, options=options)\n",
    "    print(f'{layers}\\t{activation_functions}\\t{iterations} iterations required')\n",
    "    best_R = 0.0\n",
    "    best_param = []\n",
    "    iteration_n = 1\n",
    "    for n in range(layers):\n",
    "        best_activation.append('none')\n",
    "    best_activation = []\n",
    "    for inner_iteration in range(inner_iterations):\n",
    "        for option_in in options:\n",
    "            for layer in range(layers):\n",
    "                inner_list = []\n",
    "                inner_list.append(af_combs[inner_iteration])\n",
    "                for option_out in options:\n",
    "                    print(f\"running iteration {iteration_n}\")\n",
    "                    parameter_list1 = []\n",
    "                    parameter_list.append(option_in)\n",
    "                    parameter_list.extend(inner_list)\n",
    "                    parameter_list.append(option_out)\n",
    "                    print(f\"create input layer with activation of {option_in[0]} and Dropout of {option_in[1]}\")\n",
    "                    \n",
    "                    model = keras.Sequential()\n",
    "                    model.add(keras.layers.Dense(10,input_dim = input_dim,activation=option_in[0],\n",
    "                               Dropout = option_in[1]                 ))\n",
    "                    for i in range(len(inner_list)):\n",
    "                        print(f\"create hidden layer {layer} of activation {inner_list[i][0]} and Dropout {inner_list[i][1]}\")\n",
    "                        model.add(keras.layers.Dense(20,activation = inner_list[i][0],Dropout = inner_list[i][1]))\n",
    "                    print(f\"create output layer with activation of {option_out[0]} and Dropout of {option_out[1]}\")\n",
    "                    model.add(keras.layers.Dense(output_dim,activation=option_out[0],Dropout=option_out[1]))\n",
    "                    model.compile(loss='mean_squared_error', optimizer='adam', \n",
    "                                  metrics=[coeff_determination])\n",
    "                    history = model.fit(X_train,Y_train,epochs=50, batch_size=10,validation_split=0.33)\n",
    "                    scores = model.evaluate(X_test,Y_test)\n",
    "                    \n",
    "                    iteration_n += iteration_n \n",
    "                    if scores[1]>best_R:\n",
    "                        best_param = parameter_list\n",
    "                        best_score = scores[1]\n",
    "                    else:\n",
    "                        pass\n",
    "        print(\"\")\n",
    "    print(best_param)\n",
    "    print(best_R)\n",
    "    return best_param"
   ]
  },
  {
   "cell_type": "code",
   "execution_count": 66,
   "metadata": {},
   "outputs": [],
   "source": [
    "def make_pairwise_list(max_depth=2, options=['tanh', 'softmax', 'relu']):\n",
    "    combinations = []\n",
    "    for i in range(len(options)**max_depth):\n",
    "        state = []\n",
    "        for depth in range(max_depth):\n",
    "            if depth == 0:\n",
    "                #print(f\"{i:4}:  {options[i // len(options)**(max_depth-1)]}\", end='  ')\n",
    "                state.append(options[i // len(options)**(max_depth-1)])\n",
    "            elif depth == max_depth - 1:\n",
    "                #print(f\"{options[i % len(options)]}\", end='  ')\n",
    "                state.append(options[i % len(options)])\n",
    "            else:\n",
    "                #print(f\"{options[i // len(options)**(depth) % len(options)]}\", end='  ')\n",
    "                state.append(options[i // len(options)**(depth) % len(options)])\n",
    "        #print(\"\")\n",
    "        combinations.append(state)\n",
    "    return combinations"
   ]
  },
  {
   "cell_type": "code",
   "execution_count": null,
   "metadata": {},
   "outputs": [],
   "source": []
  },
  {
   "cell_type": "code",
   "execution_count": null,
   "metadata": {},
   "outputs": [],
   "source": []
  },
  {
   "cell_type": "code",
   "execution_count": null,
   "metadata": {},
   "outputs": [],
   "source": [
    "# Not Run Yet\n",
    "def Layer_Number_Decider(Number_Choice,input_dim,opt_activation,X,Y):\n",
    "    Best_score = 0.0\n",
    "    Best_L_Num = 1\n",
    "    for choice_n in Number_Choice:\n",
    "        i = 1\n",
    "        model = Sequntial()\n",
    "        while i <= choice n:\n",
    "            model.add(keras.layers.Dense(5,input_dim=input_dim,activation=opt_activation))\n",
    "        model.compile(loss='mean_squared_error', optimizer='sgd', metrics=['accuracy'])\n",
    "        # Above step will be modified based on other functions to be completed\n",
    "        model.fit(X,Y,epochs=150, batch_size=10,verbose=0)\n",
    "        \n",
    "        scores = model.evaluate(X,Y)\n",
    "        if scores[1] > best_score:\n",
    "            best_score = scores[1]\n",
    "            best_L_Num = choice_n\n",
    "                else:\n",
    "                    pass\n",
    "    \n",
    "    print(best_score, L_num)\n",
    "            "
   ]
  },
  {
   "cell_type": "code",
   "execution_count": null,
   "metadata": {},
   "outputs": [],
   "source": [
    "# The following function is Hand_written grid_Search Function\n",
    "# Cross_validation is not included for runtime concerns\n",
    "# This function has worked in other notebook.\n",
    "def Grid_Search(param,X,Y):\n",
    "    import keras\n",
    "    best_score = 0.0\n",
    "    best_activation = ['none','none','none']\n",
    "    # This will be modified so that not only activation could be tuned\n",
    "    # Also number of layers would be more flexible \n",
    "    for param1 in param:\n",
    "        for param2 in param:\n",
    "                model = keras.Sequential()\n",
    "                model.add(keras.layers.Dense(20,input_dim=3,activation=param1))\n",
    "                model.add(keras.layers.Dense(1,activation=param2))\n",
    "                \n",
    "                \n",
    "                model.compile(loss='mean_squared_error', optimizer='sgd', metrics=['accuracy'])\n",
    "                model.fit(X,Y,epochs=150, batch_size=10,verbose=0)\n",
    "                \n",
    "                scores = model.evaluate(X,Y)\n",
    "                if scores[1] > best_score:\n",
    "                    best_score = scores[1]\n",
    "                    best_activation = [param1,param2]\n",
    "                else:\n",
    "                    pass\n",
    "    \n",
    "    print(best_score, best_activation)"
   ]
  },
  {
   "cell_type": "code",
   "execution_count": null,
   "metadata": {},
   "outputs": [],
   "source": [
    "# This script is copied and modified from web\n",
    "# Take too long...\n",
    "# Could be tried later with cluster or super computer\n",
    "from sklearn.model_selection import GridSearchCV\n",
    "from keras.wrappers.scikit_learn import KerasRegressor\n",
    "from keras import Sequential\n",
    "import keras\n",
    "def create_model(activation='relu'):\n",
    "\t# create model\n",
    "\tmodel = Sequential()\n",
    "\tmodel.add(keras.layers.Dense(20, input_dim=3,activation=activation))\n",
    "\tmodel.add(keras.layers.Dense(1, activation='linear'))\n",
    "\t# Compile model\n",
    "\tmodel.compile(loss='mean_squared_error', optimizer='sgd', metrics=['accuracy'])\n",
    "\treturn model\n",
    "\n",
    "# create model\n",
    "model = KerasRegressor(build_fn=create_model, epochs=150, batch_size=10, verbose=0)\n",
    "# define the grid search parameters\n",
    "activation = ['tanh','linear','relu']\n",
    "param_grid = dict(activation=activation)\n",
    "# This param_grid could be a any other paramters:initializer, nodes_number,learning_rate\n",
    "# learning momentum, drop_out rate,epoch, batch_size,weight_constraint,etc\n",
    "grid = GridSearchCV(estimator=model, param_grid=param_grid, n_jobs=-1)\n",
    "grid_result = grid.fit(X, Y)\n",
    "# summarize results\n",
    "print(\"Best: %f using %s\" % (grid_result.best_score_, grid_result.best_params_))\n",
    "means = grid_result.cv_results_['mean_test_score']\n",
    "stds = grid_result.cv_results_['std_test_score']\n",
    "params = grid_result.cv_results_['params']\n",
    "for mean, stdev, param in zip(means, stds, params):\n",
    "    print(\"%f (%f) with: %r\" % (mean, stdev, param))\n",
    "\n",
    "\n"
   ]
  },
  {
   "cell_type": "code",
   "execution_count": 62,
   "metadata": {},
   "outputs": [],
   "source": [
    "import xlrd\n",
    "df2 = pd.read_excel('parameter_choice.xlsx')"
   ]
  },
  {
   "cell_type": "code",
   "execution_count": 63,
   "metadata": {},
   "outputs": [],
   "source": [
    "df2.to_csv('parameter_choice.csv')"
   ]
  },
  {
   "cell_type": "markdown",
   "metadata": {},
   "source": [
    "## "
   ]
  },
  {
   "cell_type": "code",
   "execution_count": 64,
   "metadata": {},
   "outputs": [
    {
     "data": {
      "text/html": [
       "<div>\n",
       "<style scoped>\n",
       "    .dataframe tbody tr th:only-of-type {\n",
       "        vertical-align: middle;\n",
       "    }\n",
       "\n",
       "    .dataframe tbody tr th {\n",
       "        vertical-align: top;\n",
       "    }\n",
       "\n",
       "    .dataframe thead th {\n",
       "        text-align: right;\n",
       "    }\n",
       "</style>\n",
       "<table border=\"1\" class=\"dataframe\">\n",
       "  <thead>\n",
       "    <tr style=\"text-align: right;\">\n",
       "      <th></th>\n",
       "      <th>Parameters</th>\n",
       "    </tr>\n",
       "  </thead>\n",
       "  <tbody>\n",
       "    <tr>\n",
       "      <th>0</th>\n",
       "      <td>layer number</td>\n",
       "    </tr>\n",
       "    <tr>\n",
       "      <th>1</th>\n",
       "      <td>layer type</td>\n",
       "    </tr>\n",
       "    <tr>\n",
       "      <th>2</th>\n",
       "      <td>different layer combination</td>\n",
       "    </tr>\n",
       "    <tr>\n",
       "      <th>3</th>\n",
       "      <td>nodes number</td>\n",
       "    </tr>\n",
       "    <tr>\n",
       "      <th>4</th>\n",
       "      <td>activation function</td>\n",
       "    </tr>\n",
       "    <tr>\n",
       "      <th>5</th>\n",
       "      <td>kernel initializer</td>\n",
       "    </tr>\n",
       "    <tr>\n",
       "      <th>6</th>\n",
       "      <td>bias initializer</td>\n",
       "    </tr>\n",
       "    <tr>\n",
       "      <th>7</th>\n",
       "      <td>kernel regularizer</td>\n",
       "    </tr>\n",
       "    <tr>\n",
       "      <th>8</th>\n",
       "      <td>bias regularizer</td>\n",
       "    </tr>\n",
       "    <tr>\n",
       "      <th>9</th>\n",
       "      <td>kernel constraint</td>\n",
       "    </tr>\n",
       "    <tr>\n",
       "      <th>10</th>\n",
       "      <td>biase constraint</td>\n",
       "    </tr>\n",
       "    <tr>\n",
       "      <th>11</th>\n",
       "      <td>Dropout rate</td>\n",
       "    </tr>\n",
       "    <tr>\n",
       "      <th>12</th>\n",
       "      <td>loss function</td>\n",
       "    </tr>\n",
       "    <tr>\n",
       "      <th>13</th>\n",
       "      <td>metric</td>\n",
       "    </tr>\n",
       "    <tr>\n",
       "      <th>14</th>\n",
       "      <td>optimizer and learning rate</td>\n",
       "    </tr>\n",
       "    <tr>\n",
       "      <th>15</th>\n",
       "      <td>epochs</td>\n",
       "    </tr>\n",
       "    <tr>\n",
       "      <th>16</th>\n",
       "      <td>batch_size</td>\n",
       "    </tr>\n",
       "  </tbody>\n",
       "</table>\n",
       "</div>"
      ],
      "text/plain": [
       "                     Parameters\n",
       "0                  layer number\n",
       "1                   layer type \n",
       "2   different layer combination\n",
       "3                  nodes number\n",
       "4           activation function\n",
       "5            kernel initializer\n",
       "6              bias initializer\n",
       "7            kernel regularizer\n",
       "8              bias regularizer\n",
       "9             kernel constraint\n",
       "10             biase constraint\n",
       "11                 Dropout rate\n",
       "12                loss function\n",
       "13                       metric\n",
       "14  optimizer and learning rate\n",
       "15                       epochs\n",
       "16                   batch_size"
      ]
     },
     "execution_count": 64,
     "metadata": {},
     "output_type": "execute_result"
    }
   ],
   "source": [
    "df2"
   ]
  },
  {
   "cell_type": "code",
   "execution_count": null,
   "metadata": {},
   "outputs": [],
   "source": []
  },
  {
   "cell_type": "code",
   "execution_count": null,
   "metadata": {},
   "outputs": [],
   "source": []
  },
  {
   "cell_type": "markdown",
   "metadata": {},
   "source": [
    "## This to do next:\n",
    "* Find a way to make every function work: shrinking pre_trained sample size, split parameter \n",
    "  and do them one by one, Forward_stepwise selection...?\n",
    "* Data preprossing and standardizing function\n",
    "* Model restoring function\n",
    "* Plot Draw~\n",
    "* .Py Script \n",
    "* Other kinds of neural network and layers\n",
    "* Probably some sel_designing parameter/functions such as weight initilizer"
   ]
  }
 ],
 "metadata": {
  "kernelspec": {
   "display_name": "Python 3",
   "language": "python",
   "name": "python3"
  },
  "language_info": {
   "codemirror_mode": {
    "name": "ipython",
    "version": 3
   },
   "file_extension": ".py",
   "mimetype": "text/x-python",
   "name": "python",
   "nbconvert_exporter": "python",
   "pygments_lexer": "ipython3",
   "version": "3.6.5"
  }
 },
 "nbformat": 4,
 "nbformat_minor": 2
}
