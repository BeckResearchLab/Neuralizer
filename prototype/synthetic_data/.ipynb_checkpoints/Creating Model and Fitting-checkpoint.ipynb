{
 "cells": [
  {
   "cell_type": "code",
   "execution_count": 16,
   "metadata": {},
   "outputs": [],
   "source": [
    "import pandas as pd\n",
    "import numpy as np"
   ]
  },
  {
   "cell_type": "markdown",
   "metadata": {},
   "source": [
    "* The following function is used for reading data and create x and y\n",
    "* It would take'csv' or 'tsv' file"
   ]
  },
  {
   "cell_type": "code",
   "execution_count": 15,
   "metadata": {},
   "outputs": [
    {
     "name": "stdout",
     "output_type": "stream",
     "text": [
      "/Users/wangyuening/Documents/Research/Neuralizer/prototype/synthetic_data/synthetic_data.tsv\n"
     ]
    }
   ],
   "source": [
    "import os\n",
    "location = os.path.abspath('synthetic_data.tsv')\n",
    "df_try = pd.read_csv('%s'%location)\n",
    "print(location)\n"
   ]
  },
  {
   "cell_type": "code",
   "execution_count": 17,
   "metadata": {},
   "outputs": [],
   "source": [
    "def read_file(filename,X_var,Y_var):\n",
    "    location = os.path.abspath(filename)\n",
    "    df = pd.read_csv('%s'%location,sep='\\t')\n",
    "    X = np.array(df[X_var].values)\n",
    "    Y = np.array(df[Y_var].values)\n",
    "    return X,Y\n",
    "    "
   ]
  },
  {
   "cell_type": "code",
   "execution_count": 18,
   "metadata": {},
   "outputs": [],
   "source": [
    "filename = 'synthetic_data.tsv'\n",
    "X_var = ['A','B','C']\n",
    "Y_var =['y']\n",
    "X,Y = read_file(filename=filename,X_var=X_var,Y_var=Y_var)"
   ]
  },
  {
   "cell_type": "code",
   "execution_count": 19,
   "metadata": {},
   "outputs": [
    {
     "data": {
      "text/plain": [
       "(9261, 3)"
      ]
     },
     "execution_count": 19,
     "metadata": {},
     "output_type": "execute_result"
    }
   ],
   "source": [
    "X.shape"
   ]
  },
  {
   "cell_type": "code",
   "execution_count": 20,
   "metadata": {},
   "outputs": [
    {
     "data": {
      "text/plain": [
       "(9261, 1)"
      ]
     },
     "execution_count": 20,
     "metadata": {},
     "output_type": "execute_result"
    }
   ],
   "source": [
    "Y.shape"
   ]
  },
  {
   "cell_type": "code",
   "execution_count": 22,
   "metadata": {},
   "outputs": [],
   "source": [
    "import sklearn\n",
    "from sklearn.model_selection import train_test_split"
   ]
  },
  {
   "cell_type": "code",
   "execution_count": 23,
   "metadata": {},
   "outputs": [],
   "source": [
    "def split_train_test(X,Y,test_fraction,random_state):\n",
    "    X_train, X_test, Y_train, Y_test = train_test_split(X, Y, test_size=test_fraction, random_state=random_state)\n",
    "    return X_train, X_test, Y_train, Y_test"
   ]
  },
  {
   "cell_type": "code",
   "execution_count": 24,
   "metadata": {},
   "outputs": [],
   "source": [
    "X_train, X_test, Y_train, Y_test = split_train_test(X,Y,0.20,42)"
   ]
  },
  {
   "cell_type": "code",
   "execution_count": null,
   "metadata": {},
   "outputs": [],
   "source": [
    "# Not Run Yet\n",
    "def Layer_Number_Decider(Number_Choice,input_dim,opt_activation,X,Y):\n",
    "    Best_score = 0.0\n",
    "    Best_L_Num = 1\n",
    "    for choice_n in Number_Choice:\n",
    "        i = 1\n",
    "        model = Sequntial()\n",
    "        while i <= choice n:\n",
    "            model.add(keras.layers.Dense(5,input_dim=input_dim,activation=opt_activation))\n",
    "        model.compile(loss='mean_squared_error', optimizer='sgd', metrics=['accuracy'])\n",
    "        # Above step will be modified based on other functions to be completed\n",
    "        model.fit(X,Y,epochs=150, batch_size=10,verbose=0)\n",
    "        \n",
    "        scores = model.evaluate(X,Y)\n",
    "        if scores[1] > best_score:\n",
    "            best_score = scores[1]\n",
    "            best_L_Num = choice_n\n",
    "                else:\n",
    "                    pass\n",
    "    \n",
    "    print(best_score, L_num)\n",
    "            "
   ]
  },
  {
   "cell_type": "code",
   "execution_count": null,
   "metadata": {},
   "outputs": [],
   "source": [
    "# The following function is Hand_written grid_Search Function\n",
    "# Cross_validation is not included for runtime concerns\n",
    "# This function has worked in other notebook.\n",
    "def Grid_Search(param,X,Y):\n",
    "    import keras\n",
    "    best_score = 0.0\n",
    "    best_activation = ['none','none','none']\n",
    "    # This will be modified so that not only activation could be tuned\n",
    "    # Also number of layers would be more flexible \n",
    "    for param1 in param:\n",
    "        for param2 in param:\n",
    "                model = keras.Sequential()\n",
    "                model.add(keras.layers.Dense(20,input_dim=3,activation=param1))\n",
    "                model.add(keras.layers.Dense(1,activation=param2))\n",
    "                \n",
    "                \n",
    "                model.compile(loss='mean_squared_error', optimizer='sgd', metrics=['accuracy'])\n",
    "                model.fit(X,Y,epochs=150, batch_size=10,verbose=0)\n",
    "                \n",
    "                scores = model.evaluate(X,Y)\n",
    "                if scores[1] > best_score:\n",
    "                    best_score = scores[1]\n",
    "                    best_activation = [param1,param2]\n",
    "                else:\n",
    "                    pass\n",
    "    \n",
    "    print(best_score, best_activation)"
   ]
  },
  {
   "cell_type": "code",
   "execution_count": null,
   "metadata": {},
   "outputs": [],
   "source": [
    "# This script is copied and modified from web\n",
    "# Take too long...\n",
    "# Could be tried later with cluster or super computer\n",
    "from sklearn.model_selection import GridSearchCV\n",
    "from keras.wrappers.scikit_learn import KerasRegressor\n",
    "from keras import Sequential\n",
    "import keras\n",
    "def create_model(activation='relu'):\n",
    "\t# create model\n",
    "\tmodel = Sequential()\n",
    "\tmodel.add(keras.layers.Dense(20, input_dim=3,activation=activation))\n",
    "\tmodel.add(keras.layers.Dense(1, activation='linear'))\n",
    "\t# Compile model\n",
    "\tmodel.compile(loss='mean_squared_error', optimizer='sgd', metrics=['accuracy'])\n",
    "\treturn model\n",
    "\n",
    "# create model\n",
    "model = KerasRegressor(build_fn=create_model, epochs=150, batch_size=10, verbose=0)\n",
    "# define the grid search parameters\n",
    "activation = ['tanh','linear','relu']\n",
    "param_grid = dict(activation=activation)\n",
    "# This param_grid could be a any other paramters:initializer, nodes_number,learning_rate\n",
    "# learning momentum, drop_out rate,epoch, batch_size,weight_constraint,etc\n",
    "grid = GridSearchCV(estimator=model, param_grid=param_grid, n_jobs=-1)\n",
    "grid_result = grid.fit(X, Y)\n",
    "# summarize results\n",
    "print(\"Best: %f using %s\" % (grid_result.best_score_, grid_result.best_params_))\n",
    "means = grid_result.cv_results_['mean_test_score']\n",
    "stds = grid_result.cv_results_['std_test_score']\n",
    "params = grid_result.cv_results_['params']\n",
    "for mean, stdev, param in zip(means, stds, params):\n",
    "    print(\"%f (%f) with: %r\" % (mean, stdev, param))\n",
    "\n",
    "\n"
   ]
  },
  {
   "cell_type": "markdown",
   "metadata": {},
   "source": [
    "## This to do next:\n",
    "* Find a way to make every function work: shrinking pre_trained sample size, split parameter \n",
    "  and do them one by one, Forward_stepwise selection...?\n",
    "* Data preprossing and standardizing function\n",
    "* Model restoring function\n",
    "* Plot Draw~\n",
    "* .Py Script \n",
    "* Other kinds of neural network and layers\n",
    "* Probably some sel_designing parameter/functions such as weight initilizer"
   ]
  }
 ],
 "metadata": {
  "kernelspec": {
   "display_name": "Python 3",
   "language": "python",
   "name": "python3"
  },
  "language_info": {
   "codemirror_mode": {
    "name": "ipython",
    "version": 3
   },
   "file_extension": ".py",
   "mimetype": "text/x-python",
   "name": "python",
   "nbconvert_exporter": "python",
   "pygments_lexer": "ipython3",
   "version": "3.6.5"
  }
 },
 "nbformat": 4,
 "nbformat_minor": 2
}
